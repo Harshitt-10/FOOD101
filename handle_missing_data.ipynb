{
 "cells": [
  {
   "cell_type": "code",
   "execution_count": 1,
   "id": "b28f54d8-b644-462a-8908-2c9151cd9d23",
   "metadata": {},
   "outputs": [],
   "source": [
    "import pandas as pd\n",
    "import numpy as np"
   ]
  },
  {
   "cell_type": "code",
   "execution_count": 2,
   "id": "82ed4d95-0625-4c9a-bc3e-a85b45075647",
   "metadata": {},
   "outputs": [],
   "source": [
    "data = pd.read_csv('IITK_Courses_Report.csv')"
   ]
  },
  {
   "cell_type": "code",
   "execution_count": 3,
   "id": "290f9dc3-58c6-48b0-9c51-46c0236c2e6b",
   "metadata": {},
   "outputs": [
    {
     "name": "stdout",
     "output_type": "stream",
     "text": [
      "         Student Name  Course  Marks (%)  Attendance (%)\n",
      "0         Dipon Konar  ELC111      56.72           63.08\n",
      "1      Parth Parashar  PHY113      84.59           20.96\n",
      "2         Anurag Sahu  MTH113      41.13           59.86\n",
      "3    Hemakshi Kumawat  CHM112      59.43           57.34\n",
      "4      Parth Parashar  ELC111      62.88           30.82\n",
      "..                ...     ...        ...             ...\n",
      "195     Kritika Singh  ELC112      68.57           77.98\n",
      "196   Harshit Karnani  PHY112      52.31           35.75\n",
      "197       Sneha Patra  PHY113      58.98           21.98\n",
      "198       Ashma Singh  PHY111      88.56           82.63\n",
      "199    Parth Parashar  PHY115      80.52           42.89\n",
      "\n",
      "[200 rows x 4 columns]\n"
     ]
    }
   ],
   "source": [
    "print(data)"
   ]
  },
  {
   "cell_type": "code",
   "execution_count": 4,
   "id": "1653e4fa-3766-4f96-9329-6200b629a2bf",
   "metadata": {},
   "outputs": [],
   "source": [
    "null = data.isnull().sum()"
   ]
  },
  {
   "cell_type": "code",
   "execution_count": 5,
   "id": "dc2ddf70-0c5d-492e-a3bd-ade0cc4225c5",
   "metadata": {},
   "outputs": [
    {
     "name": "stdout",
     "output_type": "stream",
     "text": [
      "Student Name      12\n",
      "Course             3\n",
      "Marks (%)         13\n",
      "Attendance (%)    17\n",
      "dtype: int64\n"
     ]
    }
   ],
   "source": [
    "print(null)"
   ]
  },
  {
   "cell_type": "code",
   "execution_count": 6,
   "id": "4a653b10-5d68-4170-8511-5d4af250640b",
   "metadata": {},
   "outputs": [
    {
     "name": "stdout",
     "output_type": "stream",
     "text": [
      "         Student Name  Course  Marks (%)  Attendance (%)\n",
      "0         Dipon Konar  ELC111      56.72           63.08\n",
      "1      Parth Parashar  PHY113      84.59           20.96\n",
      "2         Anurag Sahu  MTH113      41.13           59.86\n",
      "3    Hemakshi Kumawat  CHM112      59.43           57.34\n",
      "4      Parth Parashar  ELC111      62.88           30.82\n",
      "..                ...     ...        ...             ...\n",
      "195     Kritika Singh  ELC112      68.57           77.98\n",
      "196   Harshit Karnani  PHY112      52.31           35.75\n",
      "197       Sneha Patra  PHY113      58.98           21.98\n",
      "198       Ashma Singh  PHY111      88.56           82.63\n",
      "199    Parth Parashar  PHY115      80.52           42.89\n",
      "\n",
      "[200 rows x 4 columns]\n"
     ]
    }
   ],
   "source": [
    "print(data)"
   ]
  },
  {
   "cell_type": "code",
   "execution_count": 7,
   "id": "52b592f3-64cd-48e2-b55d-bfca138986ad",
   "metadata": {},
   "outputs": [],
   "source": [
    "notreq = data[(data['Student Name'].isnull()) | (data['Course'].isnull())].index"
   ]
  },
  {
   "cell_type": "code",
   "execution_count": 8,
   "id": "a897051a-c752-4293-bde3-86539e557ecc",
   "metadata": {},
   "outputs": [
    {
     "name": "stdout",
     "output_type": "stream",
     "text": [
      "Index([18, 24, 42, 64, 82, 96, 104, 112, 120, 128, 152, 160, 168, 184, 192], dtype='int64')\n"
     ]
    }
   ],
   "source": [
    "print(notreq)"
   ]
  },
  {
   "cell_type": "code",
   "execution_count": 9,
   "id": "0083d3d3-2e24-478f-926d-51253fa95801",
   "metadata": {},
   "outputs": [],
   "source": [
    "data = data.drop(notreq)"
   ]
  },
  {
   "cell_type": "code",
   "execution_count": 10,
   "id": "2133df50-6e18-4662-95f4-c0c3a85cddfe",
   "metadata": {},
   "outputs": [
    {
     "name": "stdout",
     "output_type": "stream",
     "text": [
      "         Student Name  Course  Marks (%)  Attendance (%)\n",
      "0         Dipon Konar  ELC111      56.72           63.08\n",
      "1      Parth Parashar  PHY113      84.59           20.96\n",
      "2         Anurag Sahu  MTH113      41.13           59.86\n",
      "3    Hemakshi Kumawat  CHM112      59.43           57.34\n",
      "4      Parth Parashar  ELC111      62.88           30.82\n",
      "..                ...     ...        ...             ...\n",
      "195     Kritika Singh  ELC112      68.57           77.98\n",
      "196   Harshit Karnani  PHY112      52.31           35.75\n",
      "197       Sneha Patra  PHY113      58.98           21.98\n",
      "198       Ashma Singh  PHY111      88.56           82.63\n",
      "199    Parth Parashar  PHY115      80.52           42.89\n",
      "\n",
      "[185 rows x 4 columns]\n"
     ]
    }
   ],
   "source": [
    "print(data)"
   ]
  },
  {
   "cell_type": "code",
   "execution_count": 11,
   "id": "97272bca-ce83-4ced-8d85-0e1cb1c3e8cd",
   "metadata": {},
   "outputs": [],
   "source": [
    "def gm(data, col):\n",
    "    for i in range(1, len(data)-1):\n",
    "        if (pd.isnull(data[col].iloc[i])):\n",
    "            up = data[col].iloc[i-1]\n",
    "            down = data[col].iloc[i+1]\n",
    "            data.loc[i,col] = (up*down)**(0.5)\n",
    "    return data"
   ]
  },
  {
   "cell_type": "code",
   "execution_count": 12,
   "id": "9647916a-4f4d-4c1c-959c-8b93ddc3a16d",
   "metadata": {},
   "outputs": [],
   "source": [
    "num = ['Marks (%)','Attendance (%)']\n",
    "for col in num:\n",
    "    data = gm(data,col)"
   ]
  },
  {
   "cell_type": "code",
   "execution_count": 13,
   "id": "e2a8b9d7-54f1-4550-b3ca-0387ff58bbfd",
   "metadata": {},
   "outputs": [],
   "source": [
    "data.to_csv('cleaned_IITK_Courses_Report.csv')"
   ]
  },
  {
   "cell_type": "code",
   "execution_count": null,
   "id": "58fb0875-cc38-4176-93e4-602fbae2d937",
   "metadata": {},
   "outputs": [],
   "source": []
  }
 ],
 "metadata": {
  "kernelspec": {
   "display_name": "Python 3 (ipykernel)",
   "language": "python",
   "name": "python3"
  },
  "language_info": {
   "codemirror_mode": {
    "name": "ipython",
    "version": 3
   },
   "file_extension": ".py",
   "mimetype": "text/x-python",
   "name": "python",
   "nbconvert_exporter": "python",
   "pygments_lexer": "ipython3",
   "version": "3.12.5"
  }
 },
 "nbformat": 4,
 "nbformat_minor": 5
}
